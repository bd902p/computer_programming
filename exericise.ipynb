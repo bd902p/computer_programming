{
 "metadata": {
  "language_info": {
   "codemirror_mode": {
    "name": "ipython",
    "version": 3
   },
   "file_extension": ".py",
   "mimetype": "text/x-python",
   "name": "python",
   "nbconvert_exporter": "python",
   "pygments_lexer": "ipython3",
   "version": "3.8.6-final"
  },
  "orig_nbformat": 2,
  "kernelspec": {
   "name": "python3",
   "display_name": "Python 3.8.6 64-bit",
   "metadata": {
    "interpreter": {
     "hash": "9f275e2370a3229f2e2fb9b73f1b0a43d5bfd3109520eaedb36292f04c1d575a"
    }
   }
  }
 },
 "nbformat": 4,
 "nbformat_minor": 2,
 "cells": [
  {
   "source": [
    "37之后没答案"
   ],
   "cell_type": "markdown",
   "metadata": {}
  },
  {
   "cell_type": "code",
   "execution_count": 12,
   "metadata": {},
   "outputs": [
    {
     "output_type": "execute_result",
     "data": {
      "text/plain": [
       "65"
      ]
     },
     "metadata": {},
     "execution_count": 12
    }
   ],
   "source": [
    "#1\n",
    "def max1(number1,number2):\n",
    "    if number1 > number2:\n",
    "        return number1\n",
    "    else:\n",
    "        return number2 \n",
    "max1(2,65)"
   ]
  },
  {
   "cell_type": "code",
   "execution_count": 13,
   "metadata": {},
   "outputs": [
    {
     "output_type": "execute_result",
     "data": {
      "text/plain": [
       "1023"
      ]
     },
     "metadata": {},
     "execution_count": 13
    }
   ],
   "source": [
    "#2\n",
    "def max_of_three(x,y,z):\n",
    "    if x>y:\n",
    "        # y cannot be the maximum\n",
    "        if (x>z):\n",
    "            return x\n",
    "        else:\n",
    "            return z\n",
    "    else: # x cannot be the maximum\n",
    "        if (y>z):\n",
    "            return y\n",
    "        else:\n",
    "            return z\n",
    "max_of_three(3,1023,232)"
   ]
  },
  {
   "cell_type": "code",
   "execution_count": 14,
   "metadata": {},
   "outputs": [
    {
     "output_type": "execute_result",
     "data": {
      "text/plain": [
       "9"
      ]
     },
     "metadata": {},
     "execution_count": 14
    }
   ],
   "source": [
    "#3\n",
    "def calculatelen(input1):\n",
    "    counter = 0 \n",
    "    for char in input1:\n",
    "        counter += 1\n",
    "    return counter\n",
    "calculatelen('sdjfghskf')"
   ]
  },
  {
   "cell_type": "code",
   "execution_count": 15,
   "metadata": {},
   "outputs": [
    {
     "output_type": "execute_result",
     "data": {
      "text/plain": [
       "False"
      ]
     },
     "metadata": {},
     "execution_count": 15
    }
   ],
   "source": [
    "#4\n",
    "def vowelcheck(acharacter):\n",
    "    acharacter = input (\"input a letter\")\n",
    "    if acharacter in [\"a\",\"e\",\"i\",\"o\",\"u\"]:\n",
    "        return True\n",
    "    else:\n",
    "        return False\n",
    "vowelcheck('a')"
   ]
  },
  {
   "cell_type": "code",
   "execution_count": 16,
   "metadata": {},
   "outputs": [
    {
     "output_type": "execute_result",
     "data": {
      "text/plain": [
       "'tothohisos isos fofunon'"
      ]
     },
     "metadata": {},
     "execution_count": 16
    }
   ],
   "source": [
    "#5\n",
    "def translate(text1):\n",
    "    vowels = ['a','e','i','o','u',' ']\n",
    "    text2 = \"\"\n",
    "    for y in list(text1):\n",
    "        if y in vowels:\n",
    "            text2 += y\n",
    "        else: \n",
    "            text2 += y\n",
    "            text2 += 'o'\n",
    "            text2 += y\n",
    "    return text2\n",
    "translate(\"this is fun\")"
   ]
  },
  {
   "cell_type": "code",
   "execution_count": 17,
   "metadata": {},
   "outputs": [
    {
     "output_type": "execute_result",
     "data": {
      "text/plain": [
       "124"
      ]
     },
     "metadata": {},
     "execution_count": 17
    }
   ],
   "source": [
    "#6\n",
    "def sum1(list1):\n",
    "    sum2 = 0\n",
    "    for i in list1:\n",
    "        sum2 += i \n",
    "    return sum2\n",
    "sum1 ([2,3,4,5,6,7,8,89])"
   ]
  },
  {
   "cell_type": "code",
   "execution_count": 18,
   "metadata": {},
   "outputs": [
    {
     "output_type": "execute_result",
     "data": {
      "text/plain": [
       "3588480"
      ]
     },
     "metadata": {},
     "execution_count": 18
    }
   ],
   "source": [
    "#7\n",
    "def multiply1(list2):\n",
    "    sum3 = 1\n",
    "    for x in list2:\n",
    "        sum3 *=x\n",
    "    return sum3\n",
    "multiply1([2,3,4,5,6,7,8,89])   "
   ]
  },
  {
   "cell_type": "code",
   "execution_count": 19,
   "metadata": {},
   "outputs": [
    {
     "output_type": "execute_result",
     "data": {
      "text/plain": [
       "'nuf si siht'"
      ]
     },
     "metadata": {},
     "execution_count": 19
    }
   ],
   "source": [
    "#7\n",
    "def reverse1(words1):\n",
    "    list100 =[ ]\n",
    "    count = 1\n",
    "    for i in range(0,len(words1)):\n",
    "        list100.append(words1[len(words1)-count])\n",
    "        count += 1\n",
    "    list100 = ''.join(list100)\n",
    "    return list100\n",
    "reverse1('this is fun')\n"
   ]
  },
  {
   "cell_type": "code",
   "execution_count": 20,
   "metadata": {},
   "outputs": [
    {
     "output_type": "stream",
     "name": "stdout",
     "text": [
      "False\nTrue\n"
     ]
    }
   ],
   "source": [
    "#8 看的答案\n",
    "def is_palindrome(testword): \n",
    "    list101 =[ ]\n",
    "    count1 = 1\n",
    "    for i in range(0,len(testword)):\n",
    "        list101.append(testword[len(testword)-count1])\n",
    "        count1 += 1\n",
    "    list101 = ''.join(list101)\n",
    "\n",
    "    if testword == list101:\n",
    "        return True\n",
    "    else:\n",
    "        return False\n",
    "print(is_palindrome('mesuem'))\n",
    "print(is_palindrome('aoaoa'))"
   ]
  },
  {
   "cell_type": "code",
   "execution_count": 21,
   "metadata": {},
   "outputs": [
    {
     "output_type": "stream",
     "name": "stdout",
     "text": [
      "True\nTrue\nFalse\n"
     ]
    }
   ],
   "source": [
    "#9 看答案写的\n",
    "def is_member(membera, memberlist):\n",
    "    length1 = len (memberlist)\n",
    "    i1 = 0 \n",
    "    while i1 < length1:\n",
    "        if membera == memberlist[i1]:\n",
    "            return True\n",
    "        i1 += 1\n",
    "    return False\n",
    "print(is_member('a',['a']))\n",
    "print(is_member('a',['a','b','c']))\n",
    "print(is_member('sdasd',['a','b','c']))"
   ]
  },
  {
   "cell_type": "code",
   "execution_count": 22,
   "metadata": {},
   "outputs": [
    {
     "output_type": "stream",
     "name": "stdout",
     "text": [
      "False\nTrue\n"
     ]
    }
   ],
   "source": [
    "#10\n",
    "def overlapping(lista,listb):\n",
    "    number1 = 0 \n",
    "    length20 = len(lista)\n",
    "    while number1 < length20: \n",
    "        a = lista[number1]\n",
    "        if is_member(a, listb) == True:\n",
    "            return True\n",
    "        number1 += 1\n",
    "    return False \n",
    "print(overlapping([1,2,3],[0,4,5]))\n",
    "print(overlapping([2],[1,2,3]))"
   ]
  },
  {
   "cell_type": "code",
   "execution_count": 23,
   "metadata": {},
   "outputs": [
    {
     "output_type": "stream",
     "name": "stdout",
     "text": [
      "sssssssss\n"
     ]
    }
   ],
   "source": [
    "#11\n",
    "def generate_n_chars(n,c):\n",
    "    newnc = ''\n",
    "    lengthnc = 0 \n",
    "    while lengthnc < n: \n",
    "        newnc +=c\n",
    "        lengthnc += 1\n",
    "    return newnc \n",
    "print(generate_n_chars(9,'s'))"
   ]
  },
  {
   "cell_type": "code",
   "execution_count": 24,
   "metadata": {},
   "outputs": [
    {
     "output_type": "stream",
     "name": "stdout",
     "text": [
      "**\n***\n******\n***\n*****\n\n**\n"
     ]
    }
   ],
   "source": [
    "#12 看答案写的 原本想得太难了\n",
    "def histogram(listnumber):\n",
    "    for l in listnumber:\n",
    "        print('*'*l)\n",
    "histogram([2,3,6,3,5,0,2])"
   ]
  },
  {
   "cell_type": "code",
   "execution_count": 25,
   "metadata": {},
   "outputs": [
    {
     "output_type": "stream",
     "name": "stdout",
     "text": [
      "(3, 2)\n"
     ]
    }
   ],
   "source": [
    "#13 看的答案\n",
    "def listMax(inputList):\n",
    "    max_so_far = inputList[0]\n",
    "    max_idx = 0\n",
    "    idx = 1\n",
    "    for x in inputList[1:]:\n",
    "        if (x>max_so_far):\n",
    "            max_so_far = x\n",
    "            max_idx = idx\n",
    "        idx += 1\n",
    "    return(max_so_far, max_idx)\n",
    "\n",
    "print(listMax([0, 1, 3]))"
   ]
  },
  {
   "cell_type": "code",
   "execution_count": 26,
   "metadata": {},
   "outputs": [
    {
     "output_type": "execute_result",
     "data": {
      "text/plain": [
       "[3, 5, 8]"
      ]
     },
     "metadata": {},
     "execution_count": 26
    }
   ],
   "source": [
    "#14\n",
    "def lengthofeachword (listx):\n",
    "    lengthlist = []\n",
    "    for x in listx:\n",
    "        lengthlist.append(len(x)) # 如果是用 lengthlist += len(x) 无法相加，因为都是数字，但是用lengthlist += str(len(x)) 是可以的，但是不符合题意\n",
    "    return lengthlist \n",
    "ab = ['abc','defgh','pqrstuvw']\n",
    "lengthofeachword(ab)"
   ]
  },
  {
   "cell_type": "code",
   "execution_count": 27,
   "metadata": {},
   "outputs": [
    {
     "output_type": "execute_result",
     "data": {
      "text/plain": [
       "('dfgsdgsdg', 9)"
      ]
     },
     "metadata": {},
     "execution_count": 27
    }
   ],
   "source": [
    "#15\n",
    "def find_longest_word(listxyz):\n",
    "    maxwordsofar = listxyz[0]\n",
    "    longestsofar = len(listxyz[0])\n",
    "    ids = 1\n",
    "    for x in listxyz[1:]:\n",
    "        if len(x) > longestsofar:\n",
    "            maxwordsofar = listxyz[1]\n",
    "        ids += 1\n",
    "    return(maxwordsofar, len(maxwordsofar))\n",
    "xyz = ['a','dfgsdgsdg','dd']\n",
    "find_longest_word(xyz)"
   ]
  },
  {
   "cell_type": "code",
   "execution_count": 28,
   "metadata": {},
   "outputs": [
    {
     "output_type": "execute_result",
     "data": {
      "text/plain": [
       "3"
      ]
     },
     "metadata": {},
     "execution_count": 28
    }
   ],
   "source": [
    "len(xyz)"
   ]
  },
  {
   "cell_type": "code",
   "execution_count": 29,
   "metadata": {},
   "outputs": [],
   "source": [
    "#16 看答案写的\n",
    "def filter_long_words(listtest, n):\n",
    "    listresult = []\n",
    "    for x in listtest:\n",
    "        if len(x)> n:\n",
    "            listresult.append(x)\n",
    "    return listresult"
   ]
  },
  {
   "cell_type": "code",
   "execution_count": 30,
   "metadata": {
    "tags": []
   },
   "outputs": [
    {
     "output_type": "execute_result",
     "data": {
      "text/plain": [
       "['fdghsj']"
      ]
     },
     "metadata": {},
     "execution_count": 30
    }
   ],
   "source": [
    "xyzx = ['s','fdghsj','dds','djs']\r\n",
    "filter_long_words(xyzx, 3)"
   ]
  },
  {
   "cell_type": "code",
   "execution_count": 31,
   "metadata": {},
   "outputs": [
    {
     "output_type": "stream",
     "name": "stdout",
     "text": [
      "False\nTrue\nTrue\nTrue\nTrue\n"
     ]
    }
   ],
   "source": [
    "#17\n",
    "def palindromerecog(phrasetest):\n",
    "    lower1 = phrasetest.lower()\n",
    "    alphabeta = ['a','b','c','d','e','f','g','h','i','j','k','l','m','n','o','p','q','r','s','t','u','v','w','x','y','z']\n",
    "    listiu = list(lower1)\n",
    "    listiua = [x for x in listiu if x in alphabeta] #不再字母表里的项目全去掉\n",
    "    listiua_in_order = listiua\n",
    "    list000 = ''.join(listiua_in_order)\n",
    "    listiua.reverse() #注意 .reverse() 不输出任何结果 只能再原项目上改变\n",
    "    list111 = ''.join(listiua)\n",
    "    if list000 == list111:\n",
    "        return True\n",
    "    else:\n",
    "        return False\n",
    "print (palindromerecog('phrasetest'))\n",
    "print (palindromerecog('Was it a rat I saw?'))\n",
    "print (palindromerecog('Step on no pets'))\n",
    "print (palindromerecog('Sit on a potato pan, Otis'))\n",
    "print (palindromerecog('Lisa Bonet ate no basil'))\n",
    "#先把不符合26个字母的字符全部去除，然后在拆成list，reverse，再组合，对比"
   ]
  },
  {
   "cell_type": "code",
   "execution_count": 10,
   "metadata": {},
   "outputs": [
    {
     "output_type": "stream",
     "name": "stdout",
     "text": [
      "False\nTrue\nTrue\nTrue\nTrue\n"
     ]
    }
   ],
   "source": []
  },
  {
   "cell_type": "code",
   "execution_count": 32,
   "metadata": {},
   "outputs": [
    {
     "output_type": "stream",
     "name": "stdout",
     "text": [
      "True\n"
     ]
    }
   ],
   "source": [
    "#17 答案\n",
    "def palindrome(string):\n",
    "    string = string.lower()    #only string.lower won't work\n",
    "    string = string.replace(\" \",\"\")  #must be contained in \n",
    "    tem = ['.',',','!','?','\\\"',\"\\'\"]   #variable  :)\n",
    "    for i in tem:\n",
    "        string = string.replace(i,\"\")\n",
    "    tmp=''\n",
    "    length = len(string)\n",
    "    for i in range(length):\n",
    "        tmp += string[length-1]\n",
    "        length -= 1\n",
    "    if string == tmp:\n",
    "        return True\n",
    "    else:\n",
    "        return False\n",
    "\n",
    "ab = \"Was it a rat I saw?\"\n",
    "print (palindrome(ab))"
   ]
  },
  {
   "cell_type": "code",
   "execution_count": 33,
   "metadata": {},
   "outputs": [
    {
     "output_type": "stream",
     "name": "stdout",
     "text": [
      "False\nTrue\n"
     ]
    }
   ],
   "source": [
    "#18 上网搜的\n",
    "def pangram(sentence1):\n",
    "    sentence1list = list(sentence1)\n",
    "    alphabetab = ['a','b','c','d','e','f','g','h','i','j','k','l','m','n','o','p','q','r','s','t','u','v','w','x','y','z']\n",
    "    checklist = [False for l in alphabetab if l not in sentence1list] #这一句很关键 双重否定 如果写了checklist = [True for l in alphabetab if l in sentence1list] 不管怎么样都是true\n",
    "    if checklist:\n",
    "        return False \n",
    "    else:\n",
    "        return True \n",
    "print(pangram('dkfjghaskdfkajdfv'))\n",
    "print(pangram('The quick brown fox jumps over the lazy dog.'))"
   ]
  },
  {
   "cell_type": "code",
   "execution_count": 34,
   "metadata": {},
   "outputs": [
    {
     "output_type": "stream",
     "name": "stdout",
     "text": [
      "99 bottles of beer on the wall, 99 bottles of beer.\nTake one down, pass it around, 98 bottles of beer on the wall.\n\n98 bottles of beer on the wall, 98 bottles of beer.\nTake one down, pass it around, 97 bottles of beer on the wall.\n\n97 bottles of beer on the wall, 97 bottles of beer.\nTake one down, pass it around, 96 bottles of beer on the wall.\n\n96 bottles of beer on the wall, 96 bottles of beer.\nTake one down, pass it around, 95 bottles of beer on the wall.\n\n95 bottles of beer on the wall, 95 bottles of beer.\nTake one down, pass it around, 94 bottles of beer on the wall.\n\n94 bottles of beer on the wall, 94 bottles of beer.\nTake one down, pass it around, 93 bottles of beer on the wall.\n\n93 bottles of beer on the wall, 93 bottles of beer.\nTake one down, pass it around, 92 bottles of beer on the wall.\n\n92 bottles of beer on the wall, 92 bottles of beer.\nTake one down, pass it around, 91 bottles of beer on the wall.\n\n91 bottles of beer on the wall, 91 bottles of beer.\nTake one down, pass it around, 90 bottles of beer on the wall.\n\n90 bottles of beer on the wall, 90 bottles of beer.\nTake one down, pass it around, 89 bottles of beer on the wall.\n\n89 bottles of beer on the wall, 89 bottles of beer.\nTake one down, pass it around, 88 bottles of beer on the wall.\n\n88 bottles of beer on the wall, 88 bottles of beer.\nTake one down, pass it around, 87 bottles of beer on the wall.\n\n87 bottles of beer on the wall, 87 bottles of beer.\nTake one down, pass it around, 86 bottles of beer on the wall.\n\n86 bottles of beer on the wall, 86 bottles of beer.\nTake one down, pass it around, 85 bottles of beer on the wall.\n\n85 bottles of beer on the wall, 85 bottles of beer.\nTake one down, pass it around, 84 bottles of beer on the wall.\n\n84 bottles of beer on the wall, 84 bottles of beer.\nTake one down, pass it around, 83 bottles of beer on the wall.\n\n83 bottles of beer on the wall, 83 bottles of beer.\nTake one down, pass it around, 82 bottles of beer on the wall.\n\n82 bottles of beer on the wall, 82 bottles of beer.\nTake one down, pass it around, 81 bottles of beer on the wall.\n\n81 bottles of beer on the wall, 81 bottles of beer.\nTake one down, pass it around, 80 bottles of beer on the wall.\n\n80 bottles of beer on the wall, 80 bottles of beer.\nTake one down, pass it around, 79 bottles of beer on the wall.\n\n79 bottles of beer on the wall, 79 bottles of beer.\nTake one down, pass it around, 78 bottles of beer on the wall.\n\n78 bottles of beer on the wall, 78 bottles of beer.\nTake one down, pass it around, 77 bottles of beer on the wall.\n\n77 bottles of beer on the wall, 77 bottles of beer.\nTake one down, pass it around, 76 bottles of beer on the wall.\n\n76 bottles of beer on the wall, 76 bottles of beer.\nTake one down, pass it around, 75 bottles of beer on the wall.\n\n75 bottles of beer on the wall, 75 bottles of beer.\nTake one down, pass it around, 74 bottles of beer on the wall.\n\n74 bottles of beer on the wall, 74 bottles of beer.\nTake one down, pass it around, 73 bottles of beer on the wall.\n\n73 bottles of beer on the wall, 73 bottles of beer.\nTake one down, pass it around, 72 bottles of beer on the wall.\n\n72 bottles of beer on the wall, 72 bottles of beer.\nTake one down, pass it around, 71 bottles of beer on the wall.\n\n71 bottles of beer on the wall, 71 bottles of beer.\nTake one down, pass it around, 70 bottles of beer on the wall.\n\n70 bottles of beer on the wall, 70 bottles of beer.\nTake one down, pass it around, 69 bottles of beer on the wall.\n\n69 bottles of beer on the wall, 69 bottles of beer.\nTake one down, pass it around, 68 bottles of beer on the wall.\n\n68 bottles of beer on the wall, 68 bottles of beer.\nTake one down, pass it around, 67 bottles of beer on the wall.\n\n67 bottles of beer on the wall, 67 bottles of beer.\nTake one down, pass it around, 66 bottles of beer on the wall.\n\n66 bottles of beer on the wall, 66 bottles of beer.\nTake one down, pass it around, 65 bottles of beer on the wall.\n\n65 bottles of beer on the wall, 65 bottles of beer.\nTake one down, pass it around, 64 bottles of beer on the wall.\n\n64 bottles of beer on the wall, 64 bottles of beer.\nTake one down, pass it around, 63 bottles of beer on the wall.\n\n63 bottles of beer on the wall, 63 bottles of beer.\nTake one down, pass it around, 62 bottles of beer on the wall.\n\n62 bottles of beer on the wall, 62 bottles of beer.\nTake one down, pass it around, 61 bottles of beer on the wall.\n\n61 bottles of beer on the wall, 61 bottles of beer.\nTake one down, pass it around, 60 bottles of beer on the wall.\n\n60 bottles of beer on the wall, 60 bottles of beer.\nTake one down, pass it around, 59 bottles of beer on the wall.\n\n59 bottles of beer on the wall, 59 bottles of beer.\nTake one down, pass it around, 58 bottles of beer on the wall.\n\n58 bottles of beer on the wall, 58 bottles of beer.\nTake one down, pass it around, 57 bottles of beer on the wall.\n\n57 bottles of beer on the wall, 57 bottles of beer.\nTake one down, pass it around, 56 bottles of beer on the wall.\n\n56 bottles of beer on the wall, 56 bottles of beer.\nTake one down, pass it around, 55 bottles of beer on the wall.\n\n55 bottles of beer on the wall, 55 bottles of beer.\nTake one down, pass it around, 54 bottles of beer on the wall.\n\n54 bottles of beer on the wall, 54 bottles of beer.\nTake one down, pass it around, 53 bottles of beer on the wall.\n\n53 bottles of beer on the wall, 53 bottles of beer.\nTake one down, pass it around, 52 bottles of beer on the wall.\n\n52 bottles of beer on the wall, 52 bottles of beer.\nTake one down, pass it around, 51 bottles of beer on the wall.\n\n51 bottles of beer on the wall, 51 bottles of beer.\nTake one down, pass it around, 50 bottles of beer on the wall.\n\n50 bottles of beer on the wall, 50 bottles of beer.\nTake one down, pass it around, 49 bottles of beer on the wall.\n\n49 bottles of beer on the wall, 49 bottles of beer.\nTake one down, pass it around, 48 bottles of beer on the wall.\n\n48 bottles of beer on the wall, 48 bottles of beer.\nTake one down, pass it around, 47 bottles of beer on the wall.\n\n47 bottles of beer on the wall, 47 bottles of beer.\nTake one down, pass it around, 46 bottles of beer on the wall.\n\n46 bottles of beer on the wall, 46 bottles of beer.\nTake one down, pass it around, 45 bottles of beer on the wall.\n\n45 bottles of beer on the wall, 45 bottles of beer.\nTake one down, pass it around, 44 bottles of beer on the wall.\n\n44 bottles of beer on the wall, 44 bottles of beer.\nTake one down, pass it around, 43 bottles of beer on the wall.\n\n43 bottles of beer on the wall, 43 bottles of beer.\nTake one down, pass it around, 42 bottles of beer on the wall.\n\n42 bottles of beer on the wall, 42 bottles of beer.\nTake one down, pass it around, 41 bottles of beer on the wall.\n\n41 bottles of beer on the wall, 41 bottles of beer.\nTake one down, pass it around, 40 bottles of beer on the wall.\n\n40 bottles of beer on the wall, 40 bottles of beer.\nTake one down, pass it around, 39 bottles of beer on the wall.\n\n39 bottles of beer on the wall, 39 bottles of beer.\nTake one down, pass it around, 38 bottles of beer on the wall.\n\n38 bottles of beer on the wall, 38 bottles of beer.\nTake one down, pass it around, 37 bottles of beer on the wall.\n\n37 bottles of beer on the wall, 37 bottles of beer.\nTake one down, pass it around, 36 bottles of beer on the wall.\n\n36 bottles of beer on the wall, 36 bottles of beer.\nTake one down, pass it around, 35 bottles of beer on the wall.\n\n35 bottles of beer on the wall, 35 bottles of beer.\nTake one down, pass it around, 34 bottles of beer on the wall.\n\n34 bottles of beer on the wall, 34 bottles of beer.\nTake one down, pass it around, 33 bottles of beer on the wall.\n\n33 bottles of beer on the wall, 33 bottles of beer.\nTake one down, pass it around, 32 bottles of beer on the wall.\n\n32 bottles of beer on the wall, 32 bottles of beer.\nTake one down, pass it around, 31 bottles of beer on the wall.\n\n31 bottles of beer on the wall, 31 bottles of beer.\nTake one down, pass it around, 30 bottles of beer on the wall.\n\n30 bottles of beer on the wall, 30 bottles of beer.\nTake one down, pass it around, 29 bottles of beer on the wall.\n\n29 bottles of beer on the wall, 29 bottles of beer.\nTake one down, pass it around, 28 bottles of beer on the wall.\n\n28 bottles of beer on the wall, 28 bottles of beer.\nTake one down, pass it around, 27 bottles of beer on the wall.\n\n27 bottles of beer on the wall, 27 bottles of beer.\nTake one down, pass it around, 26 bottles of beer on the wall.\n\n26 bottles of beer on the wall, 26 bottles of beer.\nTake one down, pass it around, 25 bottles of beer on the wall.\n\n25 bottles of beer on the wall, 25 bottles of beer.\nTake one down, pass it around, 24 bottles of beer on the wall.\n\n24 bottles of beer on the wall, 24 bottles of beer.\nTake one down, pass it around, 23 bottles of beer on the wall.\n\n23 bottles of beer on the wall, 23 bottles of beer.\nTake one down, pass it around, 22 bottles of beer on the wall.\n\n22 bottles of beer on the wall, 22 bottles of beer.\nTake one down, pass it around, 21 bottles of beer on the wall.\n\n21 bottles of beer on the wall, 21 bottles of beer.\nTake one down, pass it around, 20 bottles of beer on the wall.\n\n20 bottles of beer on the wall, 20 bottles of beer.\nTake one down, pass it around, 19 bottles of beer on the wall.\n\n19 bottles of beer on the wall, 19 bottles of beer.\nTake one down, pass it around, 18 bottles of beer on the wall.\n\n18 bottles of beer on the wall, 18 bottles of beer.\nTake one down, pass it around, 17 bottles of beer on the wall.\n\n17 bottles of beer on the wall, 17 bottles of beer.\nTake one down, pass it around, 16 bottles of beer on the wall.\n\n16 bottles of beer on the wall, 16 bottles of beer.\nTake one down, pass it around, 15 bottles of beer on the wall.\n\n15 bottles of beer on the wall, 15 bottles of beer.\nTake one down, pass it around, 14 bottles of beer on the wall.\n\n14 bottles of beer on the wall, 14 bottles of beer.\nTake one down, pass it around, 13 bottles of beer on the wall.\n\n13 bottles of beer on the wall, 13 bottles of beer.\nTake one down, pass it around, 12 bottles of beer on the wall.\n\n12 bottles of beer on the wall, 12 bottles of beer.\nTake one down, pass it around, 11 bottles of beer on the wall.\n\n11 bottles of beer on the wall, 11 bottles of beer.\nTake one down, pass it around, 10 bottles of beer on the wall.\n\n10 bottles of beer on the wall, 10 bottles of beer.\nTake one down, pass it around, 9 bottles of beer on the wall.\n\n9 bottles of beer on the wall, 9 bottles of beer.\nTake one down, pass it around, 8 bottles of beer on the wall.\n\n8 bottles of beer on the wall, 8 bottles of beer.\nTake one down, pass it around, 7 bottles of beer on the wall.\n\n7 bottles of beer on the wall, 7 bottles of beer.\nTake one down, pass it around, 6 bottles of beer on the wall.\n\n6 bottles of beer on the wall, 6 bottles of beer.\nTake one down, pass it around, 5 bottles of beer on the wall.\n\n5 bottles of beer on the wall, 5 bottles of beer.\nTake one down, pass it around, 4 bottles of beer on the wall.\n\n4 bottles of beer on the wall, 4 bottles of beer.\nTake one down, pass it around, 3 bottles of beer on the wall.\n\n3 bottles of beer on the wall, 3 bottles of beer.\nTake one down, pass it around, 2 bottles of beer on the wall.\n\n2 bottles of beer on the wall, 2 bottles of beer.\nTake one down, pass it around, 1 bottles of beer on the wall.\n\n1 bottles of beer on the wall, 1 bottles of beer.\nTake one down, pass it around, 0 bottles of beer on the wall.\n\n\n"
     ]
    }
   ],
   "source": [
    "#19 看的答案\n",
    "def sing_99_bottles_of_beer():\n",
    "    n = 99\n",
    "    song = ''\n",
    "    for i in range(n,0,-1):\n",
    "        song+=str(i)+' bottles of beer on the wall, '+str(i)+' bottles of beer.\\n\\\n",
    "Take one down, pass it around, '+str(i-1)+' bottles of beer on the wall.\\n\\n'\n",
    "    return song\n",
    "\n",
    "print(sing_99_bottles_of_beer())\n"
   ]
  },
  {
   "cell_type": "code",
   "execution_count": 35,
   "metadata": {},
   "outputs": [
    {
     "output_type": "execute_result",
     "data": {
      "text/plain": [
       "['god', 'jul', 'och', 'gott', 'nytt', 'år']"
      ]
     },
     "metadata": {},
     "execution_count": 35
    }
   ],
   "source": [
    "#20 看的答案 #答案的方法不能先把句子拆成list 因为拆成list 是按一个字母一个字母拆的\n",
    "def translateswedish(text):\n",
    "    dictionatry1 = {\"merry\":\"god\",\"christmas\":\"jul\",\"and\":\"och\", \"happy\":\"gott\", \"new\":\"nytt\", \"year\":\"år\"}\n",
    "    resultlist = [ ]\n",
    "    for i in text:\n",
    "        resultlist.append(dictionatry1[i])\n",
    "    return resultlist\n",
    "translateswedish(['merry','christmas','and','happy','new','year'])"
   ]
  },
  {
   "cell_type": "code",
   "execution_count": 36,
   "metadata": {},
   "outputs": [
    {
     "output_type": "stream",
     "name": "stdout",
     "text": [
      "[('A', 1), ('D', 1), ('G', 1), ('a', 7), ('b', 14), ('c', 3), ('d', 5), ('f', 3), ('g', 3), ('h', 1), ('j', 2), ('s', 2), ('y', 1)]\n"
     ]
    }
   ],
   "source": [
    "#21看答案写的 没啥头绪\n",
    "def char_freq(inputtext):\n",
    "    char_freq_dic = dict ()\n",
    "    for c in inputtext:\n",
    "        if c in char_freq_dic.keys():\n",
    "            char_freq_dic[c] = char_freq_dic.get(c)+1\n",
    "        else: \n",
    "            char_freq_dic[c]= 1\n",
    "    char_sorted_dic = sorted (char_freq_dic.items()) #sorted 就是排个序\n",
    "    return char_sorted_dic\n",
    "print(char_freq(\"abbabcGDAbdbabdbdbababajsdhfdgfjsgfygbcbcbab\"))"
   ]
  },
  {
   "cell_type": "code",
   "execution_count": 37,
   "metadata": {},
   "outputs": [
    {
     "output_type": "execute_result",
     "data": {
      "text/plain": [
       "'Caesar cipher? I much prefer Caesar salad!'"
      ]
     },
     "metadata": {},
     "execution_count": 37
    }
   ],
   "source": [
    "#22 我写的比答案好\n",
    "def jiemi(text):\n",
    "    jiemikey = {'a':'n', 'b':'o', 'c':'p', 'd':'q', 'e':'r', 'f':'s', 'g':'t', 'h':'u', 'i':'v', 'j':'w','k':'x', 'l':'y', 'm':'z', 'n':'a', 'o':'b','p':'c','q':'d', 'r':'e', 's':'f', 't':'g', 'u':'h', 'v':'i','w':'j','x':'k','y':'l', 'z':'m', 'A':'N', 'B':'O', 'C':'P', 'D':'Q', 'E':'R','F':'S','G':'T', 'H':'U', 'I':'V', 'J':'W', 'K':'X', 'L':'Y', 'M':'Z','N':'A','O':'B', 'P':'C', 'Q':'D', 'R':'E', 'S':'F', 'T':'G','U':'H','V':'I','W':'J', 'X':'K', 'Y':'L', 'Z':'M'}\n",
    "    textlist = list(text)\n",
    "    jiemilist = [ ]\n",
    "    for i in textlist:\n",
    "        if i in jiemikey: \n",
    "            jiemilist.append(jiemikey[i])\n",
    "        else:\n",
    "            jiemilist.append(i)\n",
    "    jieguo = ''.join(jiemilist)\n",
    "    return jieguo\n",
    "jiemi(\"Pnrfne pvcure? V zhpu cersre Pnrfne fnynq!\")"
   ]
  },
  {
   "cell_type": "code",
   "execution_count": 38,
   "metadata": {},
   "outputs": [
    {
     "output_type": "stream",
     "name": "stdout",
     "text": [
      "This is very funny and cool. Indeed!okay. bye.\n"
     ]
    }
   ],
   "source": [
    "#23 #wk12的题 regular experission 看的答案 去除空格\n",
    "import re\n",
    "def correct(passed_line):\n",
    "    passed_line = re.sub(\"\\s{2,}\",\" \",passed_line) #\\s no space \n",
    "    passed_line = re.sub(r'\\.(\\w)',r'. \\1',passed_line) #\\w matches multiply\n",
    "    return passed_line\n",
    "print(correct(\"This is very funny and          cool.Indeed!okay. bye.\"))"
   ]
  },
  {
   "cell_type": "code",
   "execution_count": 39,
   "metadata": {},
   "outputs": [
    {
     "output_type": "stream",
     "name": "stdout",
     "text": [
      "Help on function sub in module re:\n\nsub(pattern, repl, string, count=0, flags=0)\n    Return the string obtained by replacing the leftmost\n    non-overlapping occurrences of the pattern in string by the\n    replacement repl.  repl can be either a string or a callable;\n    if a string, backslash escapes in it are processed.  If it is\n    a callable, it's passed the Match object and must return\n    a replacement string to be used.\n\n"
     ]
    }
   ],
   "source": [
    "help(re.sub)"
   ]
  },
  {
   "cell_type": "code",
   "execution_count": 40,
   "metadata": {},
   "outputs": [
    {
     "output_type": "stream",
     "name": "stdout",
     "text": [
      "tries\nbrushes\nruns\nfixes\n"
     ]
    }
   ],
   "source": [
    "#24 看的答案\n",
    "def make_3sg_form(word):\n",
    "    conditions1 = ('o','ch','s','sh','x','z') \n",
    "    if word.endswith('y') == True:\n",
    "        word = word[:-1]\n",
    "        word += 'ies'\n",
    "    elif word.endswith(conditions1) == True:\n",
    "        word += 'es'\n",
    "    else: \n",
    "        word += 's'\n",
    "    return word\n",
    "\n",
    "print(make_3sg_form('try'))\n",
    "print(make_3sg_form('brush'))\n",
    "print(make_3sg_form('run'))\n",
    "print(make_3sg_form('fix'))"
   ]
  },
  {
   "cell_type": "code",
   "execution_count": 41,
   "metadata": {},
   "outputs": [
    {
     "output_type": "stream",
     "name": "stdout",
     "text": [
      "lying\nseeing\nmoving\nhugging\n"
     ]
    }
   ],
   "source": [
    "#25\n",
    "def make_ing_form(word):\n",
    "    consonant = ('b','c','d','f','g','h','j','k','l','m','n','p','q','r','s','t','v','w','x','y','z')\n",
    "    vowel =('a','e','i','o','u')\n",
    "    expection = ('be','lie')\n",
    "    if word.endswith('ee') == True:\n",
    "        word += 'ing'\n",
    "    elif word.endswith('ie') == True:\n",
    "        word = word[:-2]\n",
    "        word += 'ying'\n",
    "    elif  word.endswith('e') == True:\n",
    "        if word in expection: \n",
    "            word += 'ing'\n",
    "        else:\n",
    "            word = word[:-1]\n",
    "            word += 'ing'\n",
    "    elif word.endswith(consonant+vowel+consonant) == True:\n",
    "        word += word[-1]\n",
    "        word += 'ing'\n",
    "    return word\n",
    "\n",
    "print(make_ing_form('lie'))\n",
    "print(make_ing_form('see'))\n",
    "print(make_ing_form('move'))\n",
    "print(make_ing_form('hug'))"
   ]
  },
  {
   "cell_type": "code",
   "execution_count": 42,
   "metadata": {},
   "outputs": [
    {
     "output_type": "stream",
     "name": "stdout",
     "text": [
      "56\n"
     ]
    }
   ],
   "source": [
    "#26 看的答案 functools 没学过\n",
    "from functools import reduce\n",
    "\n",
    "def max_in_list(list_a):\n",
    "    return reduce(lambda a,b: a if (a>b) else b, list_a)\n",
    "\n",
    "ab = [5,7,2,4,11,56,32,45,9]\n",
    "print(max_in_list(ab))"
   ]
  },
  {
   "cell_type": "code",
   "execution_count": 43,
   "metadata": {},
   "outputs": [
    {
     "output_type": "execute_result",
     "data": {
      "text/plain": [
       "[3, 6, 1]"
      ]
     },
     "metadata": {},
     "execution_count": 43
    }
   ],
   "source": [
    "#27.1 loop\n",
    "def lengths_of_word1(words):\n",
    "    lengths_words = [ ]\n",
    "    for i in words:\n",
    "        lengths_of_each = len(i)\n",
    "        lengths_words.append(lengths_of_each)\n",
    "    return lengths_words\n",
    "lengths_of_word1(['asd','sdfsdf','a'])"
   ]
  },
  {
   "cell_type": "code",
   "execution_count": 44,
   "metadata": {},
   "outputs": [
    {
     "output_type": "execute_result",
     "data": {
      "text/plain": [
       "[3, 6, 1]"
      ]
     },
     "metadata": {},
     "execution_count": 44
    }
   ],
   "source": [
    "#27.2 map\n",
    "#map() 是一个class, map(func, *iterables), 具体意思就是后面的里的每一项都运行一下前面的function\n",
    "def lengths_of_word2(words):\n",
    "    lengths_words = list (map(len,words)) #或者 lengths_words = list (map(lambda x: len(x),words)), 这个lambda的部分可以省略\n",
    "    return lengths_words\n",
    "lengths_of_word2(['asd','sdfsdf','a'])"
   ]
  },
  {
   "cell_type": "code",
   "execution_count": 45,
   "metadata": {},
   "outputs": [
    {
     "output_type": "execute_result",
     "data": {
      "text/plain": [
       "{'asd': 3, 'sdfsdf': 6, 'a': 1}"
      ]
     },
     "metadata": {},
     "execution_count": 45
    }
   ],
   "source": [
    "#27.3 list comprehension \n",
    "def lengths_of_word3(words):\n",
    "    lengths_words = [len(x) for x in words]\n",
    "    return dict(zip(words, lengths_words)) #答案是 输出一个dict 但是问题没有让， 留着后面用\n",
    "lengths_of_word3(['asd','sdfsdf','a'])"
   ]
  },
  {
   "cell_type": "code",
   "execution_count": 46,
   "metadata": {},
   "outputs": [
    {
     "output_type": "execute_result",
     "data": {
      "text/plain": [
       "6"
      ]
     },
     "metadata": {},
     "execution_count": 46
    }
   ],
   "source": [
    "#28\n",
    "def find_longest_word1(wordlist):\n",
    "    return max(list(map(len,wordlist)))\n",
    "find_longest_word1(['asd','sdfsdf','a'])"
   ]
  },
  {
   "cell_type": "code",
   "execution_count": 47,
   "metadata": {},
   "outputs": [
    {
     "output_type": "execute_result",
     "data": {
      "text/plain": [
       "['dfgdfg', 'dsgfuahsodfhajhfas']"
      ]
     },
     "metadata": {},
     "execution_count": 47
    }
   ],
   "source": [
    "#29\n",
    "def filter_long_words1(wordlist,n):\n",
    "    return list(filter(lambda x:len(x)>n, wordlist))\n",
    "\n",
    "abcd=['dfgdfg','fgf','dsgfuahsodfhajhfas','ddd']\n",
    "filter_long_words1(abcd,3)"
   ]
  },
  {
   "cell_type": "code",
   "execution_count": 48,
   "metadata": {},
   "outputs": [
    {
     "output_type": "execute_result",
     "data": {
      "text/plain": [
       "['god', 'jul', 'och', 'gott', 'nytt', 'år', 'nothing']"
      ]
     },
     "metadata": {},
     "execution_count": 48
    }
   ],
   "source": [
    "#30 看了答案\n",
    "def translateswedish1(text):\n",
    "    dictionatry1 = {\"merry\":\"god\",\"christmas\":\"jul\",\"and\":\"och\", \"happy\":\"gott\", \"new\":\"nytt\", \"year\":\"år\"}\n",
    "    resultlist = list(map(lambda x: dictionatry1[x] if x in dictionatry1 else x, text)) #这个else加上去如果无法翻译 也可以写成else False\n",
    "    return resultlist\n",
    "translateswedish1(['merry','christmas','and','happy','new','year','nothing'])"
   ]
  },
  {
   "cell_type": "code",
   "execution_count": 49,
   "metadata": {},
   "outputs": [],
   "source": [
    "#31 看的答案\n",
    "def mymap(func,seq):\n",
    "    ini = [ ]\n",
    "    for item in seq:\n",
    "        ini.append(func(item))\n",
    "    return ini\n",
    "\n",
    "def myfilter(func,seq):\n",
    "    ini = [ ]\n",
    "    for item in seq:\n",
    "        if func(item)==True:\n",
    "            ini.append(item)\n",
    "    return ini\n",
    "\n",
    "def myreduce(func,seq):\n",
    "    i = len(seq)\n",
    "    while i>1:\n",
    "        f = func(seq[0],seq[1])\n",
    "        seq.pop(0)                  # \"del seq[0]\" do so\n",
    "        seq.pop(0)\n",
    "        seq.insert(0,f)\n",
    "        i = len(seq)\n",
    "    return seq[0]"
   ]
  },
  {
   "cell_type": "code",
   "execution_count": 50,
   "metadata": {},
   "outputs": [
    {
     "output_type": "stream",
     "name": "stdout",
     "text": [
      "Was it a rat I saw?\n\nStep on no pets\n\nSit on a potato pan, Otis'))\n\nLisa Bonet ate no basil'))\n"
     ]
    }
   ],
   "source": [
    "#32 前半部分和之前写的一样，后半部分看的答案\n",
    "def palindromerecog1(phrasetest):\n",
    "    lower1 = phrasetest.lower()\n",
    "    alphabeta = ['a','b','c','d','e','f','g','h','i','j','k','l','m','n','o','p','q','r','s','t','u','v','w','x','y','z']\n",
    "    listiu = list(lower1)\n",
    "    listiua = [x for x in listiu if x in alphabeta] #不再字母表里的项目全去掉\n",
    "    listiua_in_order = listiua\n",
    "    list000 = ''.join(listiua_in_order)\n",
    "    listiua.reverse() #注意 .reverse() 不输出任何结果 只能再原项目上改变\n",
    "    list111 = ''.join(listiua)\n",
    "    if list000 == list111:\n",
    "        return True\n",
    "    else:\n",
    "        return False\n",
    "\n",
    "\n",
    "file_name = input(\"Enter your filename with extension : \") #输入 a.txt\n",
    "with open(file_name,'r') as f:\n",
    "    for item in f.readlines():     # readlines() create list \n",
    "        if palindromerecog1(item) == True:\n",
    "            print(item)    # of all lines till EOF"
   ]
  },
  {
   "cell_type": "code",
   "execution_count": 51,
   "metadata": {},
   "outputs": [],
   "source": [
    "#33 其实没太看明白这个题要干什么 \r\n",
    "def reverseword(word):\r\n",
    "    word25 = word[::-1]\r\n",
    "    return word25"
   ]
  },
  {
   "cell_type": "code",
   "execution_count": 52,
   "metadata": {},
   "outputs": [
    {
     "output_type": "stream",
     "name": "stdout",
     "text": [
      "a   a\ni   i\nsaw   was\nno   on\npets   step\n"
     ]
    }
   ],
   "source": [
    "#33 答案 但是这个答案我不知道是什么原理 知道那些词反着来也是词 而且有个词也读不出来\n",
    "import re\n",
    "#filename = input(\"Enter filename: \")\n",
    "filename = \"words.txt\"\n",
    "fin = open(filename,\"r\")\n",
    "all_lines = fin.readlines()\n",
    "word_list = set() #set() 函数创建一个无序不重复元素集，可进行关系测试，删除重复数据，还可以计算交集、差集、并集等。\n",
    "word_dict = dict()\n",
    "for line in all_lines:\n",
    "    line = line[:-1].lower()\n",
    "    words = line.split(\" \")\n",
    "    for word in words:\n",
    "        word = re.sub(\"[^a-zA-Z]+\", \"\", word) #[^a-zA-Z]是去匹配目标字符串中非a—z也非A—Z的字符.\n",
    "        #^ [a-zA-Z]是去匹配目标字符串中以中括号中的a—z或者A—Z开头的字符\n",
    "        word_list.add(word)\n",
    "        reverse_word = word[::-1]\n",
    "        if reverse_word in word_list:\n",
    "            if reverse_word not in word_dict:\n",
    "                word_dict[word] = reverse_word\n",
    "\n",
    "for word in word_dict.keys():\n",
    "    print(word,\" \",word_dict[word])"
   ]
  },
  {
   "cell_type": "code",
   "execution_count": 53,
   "metadata": {},
   "outputs": [
    {
     "output_type": "stream",
     "name": "stdout",
     "text": [
      "t   13\na   11\ns   11\ne   8\no   7\nn   6\np   5\ni   5\nr   3\nS   2\nh   1\nd   1\nW   1\nI   1\nw   1\nO   1\nL   1\nB   1\nb   1\nl   1\n"
     ]
    }
   ],
   "source": [
    "#34 看的答案\n",
    "import re\n",
    "#filename = input(\"Enter filename: \")\n",
    "filename = \"words.txt\"\n",
    "fin = open(filename,\"r\")\n",
    "all_lines = fin.readlines()\n",
    "char_dict = dict()\n",
    "for line in all_lines:\n",
    "    line = line[:-1]\n",
    "    words = line.split(\" \")\n",
    "    for word in words:\n",
    "        word = re.sub(\"[^a-zA-Z]+\", \"\", word)\n",
    "        for c in word:\n",
    "            if c in char_dict:\n",
    "                char_dict[c]=char_dict[c]+1\n",
    "            else:\n",
    "                char_dict[c]=1\n",
    "\n",
    "sorted_char_dict = sorted(char_dict, key=char_dict.get, reverse=True)\n",
    "                \n",
    "for c in sorted_char_dict:\n",
    "    print(c,\" \",char_dict[c])"
   ]
  },
  {
   "cell_type": "code",
   "execution_count": 54,
   "metadata": {},
   "outputs": [
    {
     "output_type": "stream",
     "name": "stdout",
     "text": [
      "Help on function findall in module re:\n",
      "\n",
      "findall(pattern, string, flags=0)\n",
      "    Return a list of all non-overlapping matches in the string.\n",
      "    \n",
      "    If one or more capturing groups are present in the pattern, return\n",
      "    a list of groups; this will be a list of tuples if the pattern\n",
      "    has more than one group.\n",
      "    \n",
      "    Empty matches are included in the result.\n",
      "\n"
     ]
    }
   ],
   "source": [
    "help(re.findall)"
   ]
  },
  {
   "cell_type": "code",
   "execution_count": 55,
   "metadata": {},
   "outputs": [
    {
     "output_type": "stream",
     "name": "stdout",
     "text": [
      "sierra kilo delta foxtrot juliett hotel sierra delta foxtrot     "
     ]
    }
   ],
   "source": [
    "#35 看的答案 without sound\n",
    "import os, time, re\n",
    "#original_message = input(\"Enter a line: \")\n",
    "message = input(\"input message\")\n",
    "\n",
    "d = {'a':'alfa', 'b':'bravo', 'c':'charlie', 'd':'delta', 'e':'echo', 'f':'foxtrot',\n",
    "     'g':'golf', 'h':'hotel', 'i':'india', 'j':'juliett', 'k':'kilo', 'l':'lima',\n",
    "     'm':'mike', 'n':'november', 'o':'oscar', 'p':'papa', 'q':'quebec', 'r':'romeo',\n",
    "     's':'sierra', 't':'tango', 'u':'uniform', 'v':'victor', 'w':'whiskey', \n",
    "     'x':'x-ray', 'y':'yankee', 'z':'zulu'}\n",
    "\n",
    "def icao(message, char_pause, word_pause):\n",
    "    word_list = re.findall('\\w+',message)\n",
    "    for word in word_list:\n",
    "        word = word.lower()\n",
    "        for c in word:\n",
    "            if c in d:\n",
    "                icao_word = d[c]\n",
    "                print(icao_word+char_pause,end=\"\")\n",
    "        print(word_pause,end=\"\")            \n",
    "icao(message,\" \",\"    \")"
   ]
  },
  {
   "cell_type": "code",
   "execution_count": 56,
   "metadata": {},
   "outputs": [
    {
     "output_type": "stream",
     "name": "stdout",
     "text": [
      "but\nuk\nwho\nits\n{'yes': 2, 'ok': 3, 'but': 1, 'not': 2, 'uk': 1, 'who': 1, 'its': 1}\n"
     ]
    }
   ],
   "source": [
    "#36 看的答案\n",
    "import re\n",
    "filename11 = \"testtext.txt\"\n",
    "fin11 = open(filename11,'r')\n",
    "lines11 = fin11.readlines()\n",
    "word_dict11 = dict()\n",
    "for line in lines11:\n",
    "    word_list11 = re.findall('\\w+',line)\n",
    "    for word in word_list11:\n",
    "        word = word.lower()\n",
    "        if word in word_dict11:\n",
    "            word_dict11[word] = word_dict11[word]+1\n",
    "        else:\n",
    "            word_dict11[word]=1\n",
    "for word in word_dict11:\n",
    "    if word_dict11[word] == 1:\n",
    "        print(word)\n",
    "print(word_dict11)\n"
   ]
  },
  {
   "cell_type": "code",
   "execution_count": 57,
   "metadata": {},
   "outputs": [
    {
     "output_type": "stream",
     "name": "stdout",
     "text": [
      "Lines are numbered. Check: test_numbered.txt\n"
     ]
    }
   ],
   "source": [
    "#37 看的答案\n",
    "import re\n",
    "filenameab = \"words.txt\"\n",
    "output_filename = \"test_numbered.txt\"\n",
    "finab = open(filenameab,\"r\")\n",
    "fout = open(output_filename,\"w\")\n",
    "linesab = finab.readlines()\n",
    "word_dictab = dict()\n",
    "cnt = 0\n",
    "for line in linesab:\n",
    "    cnt+=1\n",
    "    output_line = str(cnt)+\". \"+line\n",
    "    fout.write(output_line)\n",
    "\n",
    "print(\"Lines are numbered. Check: \"+output_filename)\n",
    "finab.close()\n",
    "fout.close()"
   ]
  },
  {
   "cell_type": "code",
   "execution_count": null,
   "metadata": {},
   "outputs": [],
   "source": []
  }
 ]
}