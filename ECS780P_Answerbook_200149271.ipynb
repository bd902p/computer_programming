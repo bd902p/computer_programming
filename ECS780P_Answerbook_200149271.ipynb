{
 "cells": [
  {
   "cell_type": "markdown",
   "metadata": {},
   "source": [
    "# ECS780P Computer Programming - Answer Notebook"
   ]
  },
  {
   "cell_type": "markdown",
   "metadata": {},
   "source": [
    "Enter your answers in the cells below as indicated. Make sure that the Notebook is written in Python 3 \n",
    "and can be opened and run on the EECS JupyterHub.\n",
    "\n",
    "Feel free to insert cells as needed for rough work and testing, but please clean up rough work that you do not wish to be marked before submission. Please refrain from editing the original text and test code.\n",
    "\n",
    "Answers to Questions 3 and 4 will be marked automatically. These include some test code to help you debug your solutions. For automatic marking to function appropriately, each of your answers must pass the tests provided when running on a fresh kernel. Code that does not pass the tests will not be marked.\n",
    "\n",
    "\n",
    "**NOTE:** The test code provided with Questions 3 and 4 is meant to help you, but it does not ensure that your submission is correct; it only ensures that it can be marked automatically. You will need to test your code (including answers to Questions 1 and 2) independently for correctness. However, please remove your test code from your final submission, and do not submit any test data.\n",
    "\n"
   ]
  },
  {
   "cell_type": "markdown",
   "metadata": {},
   "source": [
    "## Question 1"
   ]
  },
  {
   "cell_type": "markdown",
   "metadata": {},
   "source": [
    "### Question 1a"
   ]
  },
  {
   "cell_type": "code",
   "execution_count": 1,
   "metadata": {},
   "outputs": [
    {
     "output_type": "stream",
     "name": "stdout",
     "text": [
      "new list = [2, 4, 4] ; number of values =  3\n"
     ]
    },
    {
     "output_type": "execute_result",
     "data": {
      "text/plain": [
       "'Could not find values smaller than x'"
      ]
     },
     "metadata": {},
     "execution_count": 1
    }
   ],
   "source": [
    "# Your answer here\n",
    "def getSmallValues(valuelist, x):\n",
    "    valuelist.sort()\n",
    "    smallvalues = [ ]\n",
    "    i = 0\n",
    "    if min(valuelist) >= x:\n",
    "        return 'Could not find values smaller than x'\n",
    "    else: \n",
    "        while i < len(valuelist):\n",
    "            if valuelist[i] < x:\n",
    "                smallvalues.append(valuelist[i])\n",
    "                i = i +1\n",
    "            else:\n",
    "                i = i + 1\n",
    "        print ('new list =', smallvalues, '; number of values = ' , len(smallvalues))\n",
    "getSmallValues([8,4,4,8,2],5)\n",
    "getSmallValues([8,4,4,8,2],2)"
   ]
  },
  {
   "cell_type": "markdown",
   "metadata": {},
   "source": [
    "### Question 1b"
   ]
  },
  {
   "cell_type": "code",
   "execution_count": 2,
   "metadata": {},
   "outputs": [],
   "source": [
    "# Run this code to create the parksAndFlora.txt file\n",
    "with open(\"parksAndFlora.txt\", \"wt\") as _of:\n",
    "    _of.writelines([\"Dartmoor;moss\\n\", \"Exmoor;heather\\n\", \"Dartmoor;bog\\n\", \"PeakDistrict;orchids\\n\",\n",
    "                    \"Dartmoor;orchids\\n\", \"PeakDistrict;knapweed\\n\", \"PeakDistrict;moss\\n\", \"Exmoor;gorse\\n\"])"
   ]
  },
  {
   "cell_type": "code",
   "execution_count": 3,
   "metadata": {},
   "outputs": [
    {
     "output_type": "execute_result",
     "data": {
      "text/plain": [
       "{'Dartmoor': ['moss', 'bog', 'orchids'],\n",
       " 'Exmoor': ['heather', 'gorse'],\n",
       " 'PeakDistrict': ['orchids', 'knapweed', 'moss']}"
      ]
     },
     "metadata": {},
     "execution_count": 3
    }
   ],
   "source": [
    "# Your answer here\n",
    "def parkfloradict(thefile): \n",
    "    pfdict = { }\n",
    "    with open(thefile,'r') as f:\n",
    "        for line in f.readlines():\n",
    "            line1 = line.strip('\\n')\n",
    "            park,flora = line1.split(\";\")\n",
    "            pfdict.setdefault(park,[ ]).append(flora)\n",
    "    return pfdict\n",
    "parkfloradict(\"parksAndFlora.txt\")"
   ]
  },
  {
   "cell_type": "markdown",
   "metadata": {},
   "source": [
    "### Question 1c"
   ]
  },
  {
   "cell_type": "code",
   "execution_count": 4,
   "metadata": {},
   "outputs": [],
   "source": [
    "# Run this cell to define the modules list\n",
    "modules = [ {'code':'ECS123P', 'mo':'John Watson', 'cl':'David Jason'},\n",
    "            {'code':'ECS234P', 'mo':'Claire Boyle', 'cl':'John Watson'},\n",
    "            {'code':'ECS345P', 'mo':'Claire Boyle', 'cl':'Bill Gates'},\n",
    "            {'code':'ECS456P', 'mo':'Jane Doe', 'cl':'David Jason'},\n",
    "            {'code':'ECS567P', 'mo':'David Jason', 'cl':'Jane Doe'},\n",
    "            {'code':'ECS567P', 'mo':'Ada Lovelace', 'cl':'Bill Gates'}]"
   ]
  },
  {
   "cell_type": "code",
   "execution_count": 17,
   "metadata": {},
   "outputs": [
    {
     "output_type": "stream",
     "name": "stdout",
     "text": [
      "['John Watson', 'Claire Boyle', 'Claire Boyle', 'Jane Doe', 'David Jason', 'Ada Lovelace']\n['David Jason', 'John Watson', 'Bill Gates', 'David Jason', 'Jane Doe', 'Bill Gates']\n['John Watson', 'Jane Doe', 'David Jason']\n"
     ]
    }
   ],
   "source": [
    "# Your answer here\n",
    "def MOs (modules1):\n",
    "    MO = []\n",
    "    for modules1 in modules:\n",
    "        MO.append(modules1[\"mo\"])\n",
    "    return MO\n",
    "\n",
    "def coLecturers(modules2):\n",
    "    CO = []\n",
    "    for modules2 in modules:\n",
    "        CO.append(modules2[\"cl\"])\n",
    "    return CO\n",
    "\n",
    "def coLectsWhoAreMOs (modules3):\n",
    "    MO1 = MOs(modules3)\n",
    "    CO1 =coLecturers(modules3)\n",
    "    CLWAM = []\n",
    "    for lecturer in MO1:\n",
    "        if lecturer in CO1: \n",
    "            CLWAM.append(lecturer)\n",
    "    return CLWAM\n",
    "\n",
    "print(MOs (modules))\n",
    "print(coLecturers(modules))\n",
    "print(coLectsWhoAreMOs (modules))"
   ]
  },
  {
   "cell_type": "markdown",
   "metadata": {},
   "source": [
    "--------------------------------------------\n",
    "\n",
    "## Question 2"
   ]
  },
  {
   "cell_type": "markdown",
   "metadata": {},
   "source": [
    "### Question 2a"
   ]
  },
  {
   "cell_type": "markdown",
   "metadata": {},
   "source": [
    "Double click on this cell to enter your answer:\n",
    "\n",
    "Import statement for ```usingUtils1.py```\n",
    "```\n",
    "# your answer here below\n",
    "import utilities as utilities\n",
    "utilities.functionOne()\n",
    "utilities.functionTwo(\"there\")\n",
    "\n",
    "\n",
    "\n",
    "```\n",
    "Import statement for ```usingUtils2.py```\n",
    "```\n",
    "# your answer here below\n",
    "import utilities as utils\n",
    "utils.functionOne()\n",
    "utils.functionTwo(\"there\") \n",
    "\n",
    "\n",
    "```\n",
    "\n",
    "Import statement for ```usingUtils3.py```\n",
    "\n",
    "```\n",
    "# your answer here below\n",
    "from utilities import functionOne\n",
    "from utilities import functionTwo\n",
    "functionOne()\n",
    "functionTwo(\"there\")\n",
    "\n",
    "\n",
    "```\n",
    "Command you would need to run:\n",
    "```\n",
    "# Replace this line with your answer\n",
    "python usingUtils1.py\n",
    "python usingUtils2.py\n",
    "python usingUtils3.py\n",
    "```"
   ]
  },
  {
   "cell_type": "markdown",
   "metadata": {},
   "source": [
    "### Question 2b"
   ]
  },
  {
   "cell_type": "code",
   "execution_count": 18,
   "metadata": {},
   "outputs": [
    {
     "output_type": "stream",
     "name": "stdout",
     "text": [
      "          ss\n         s  s\n        s    s\n       s      s\n      s        s\n     s          s\n    s            s\n   s              s\n  s                s\n s                  s\n"
     ]
    }
   ],
   "source": [
    "# Your answer here\n",
    "sidelength = int(input(\"please input the number of side length\"))\n",
    "character = input(\"please input a character\")\n",
    "def drawinglosange(sidelength,character):\n",
    "    length2 = sidelength\n",
    "\n",
    "    for i in range(0, sidelength):  \n",
    "        print(\" \" * (length2) + character + \" \" * (2 * i) + character)\n",
    "        length2  -= 1\n",
    "    \n",
    "\n",
    "drawinglosange(sidelength,character)"
   ]
  },
  {
   "cell_type": "markdown",
   "metadata": {},
   "source": [
    "### Question 2c"
   ]
  },
  {
   "cell_type": "markdown",
   "metadata": {},
   "source": [
    "Double click to enter your answer in this text cell\n",
    "example 1:\n",
    "input: get_floats([8, 9.6, 4, 2.1])   \n",
    "expected output: [9.6, 2.1]\n",
    "reason: check if the function can handle the input with mix of intergers and floats, and if it can get right result which is floats only in right order\n",
    "\n",
    "example 2: \n",
    "input: get_floats(['skjf', 'sjwdfgsjdsh', 'sdjhfsjdfg', 9.6, 2, 1.03])   \n",
    "expected output: [9.6, 1.03]\n",
    "reason: check if the function can handle the input with mix of intergers, floats and strings.\n",
    "\n",
    "example 3:\n",
    "input: get_floats([])   \n",
    "expected output: []\n",
    "reason: check if the fuction can handle empty input. "
   ]
  },
  {
   "cell_type": "markdown",
   "metadata": {},
   "source": [
    "------------------------------------------------------------\n",
    "## Question 3"
   ]
  },
  {
   "cell_type": "markdown",
   "metadata": {},
   "source": [
    "### Question 3a"
   ]
  },
  {
   "cell_type": "code",
   "execution_count": 19,
   "metadata": {},
   "outputs": [],
   "source": [
    "# Your answer here\n",
    "class BankAccount:\n",
    "    def __init__ (self, holder,number):\n",
    "        self._holder = holder\n",
    "        self._number = number\n",
    "        self._balance = 0.0\n",
    "    def deposit(self, amount):\n",
    "        self._balance += amount\n",
    "    def withdraw(self,amount): \n",
    "        if self._balance >= amount:\n",
    "            self._balance  -= amount\n",
    "            return amount\n",
    "        else: \n",
    "            amount = 0 \n",
    "            return self._balance\n",
    "    def get_balance(self):\n",
    "        return self._balance\n",
    "    def get_details (self):\n",
    "        personalinfo ={'holder':self._holder, 'number':self._number,'balance':self._balance}\n",
    "        return personalinfo"
   ]
  },
  {
   "cell_type": "code",
   "execution_count": null,
   "metadata": {},
   "outputs": [],
   "source": [
    "# Your code should pass these tests when running on a fresh kernel\n",
    "_ba=BankAccount(holder=\"Leonhard Euler\", number=271828)\n",
    "_err=False\n",
    "for _m in ['deposit', 'withdraw', 'get_balance', 'get_details']:\n",
    "    if _m not in dir(_ba):\n",
    "        print (\"Method {} not defined\".format(_m))\n",
    "        _err=True\n",
    "for _a in ['_balance', '_holder', '_number']:\n",
    "    if _a not in dir(_ba):\n",
    "        print (\"Attribute {} not defined\".format(_a))\n",
    "        _err=True\n",
    "if not _err: print(\"OK\") "
   ]
  },
  {
   "cell_type": "markdown",
   "metadata": {},
   "source": [
    "### Question 3b"
   ]
  },
  {
   "cell_type": "code",
   "execution_count": 20,
   "metadata": {},
   "outputs": [],
   "source": [
    "# Code for class Circle\n",
    "class Circle:\n",
    "    PI=3.14\n",
    "    def __init__(self, radius=1.0):\n",
    "        self._radius=radius\n",
    "    def area(self):\n",
    "        return self.PI*self._radius*self._radius"
   ]
  },
  {
   "cell_type": "code",
   "execution_count": 21,
   "metadata": {},
   "outputs": [],
   "source": [
    "# Your answer here\n",
    "class ColouredCircle(Circle):\n",
    "    def __init__ (self,radius = 1.0,colour=\"black\"):\n",
    "        self._radius = radius\n",
    "        self._colour = colour\n",
    "    def get_colour(self):\n",
    "        return self._colour"
   ]
  },
  {
   "cell_type": "code",
   "execution_count": 22,
   "metadata": {},
   "outputs": [
    {
     "output_type": "stream",
     "name": "stdout",
     "text": [
      "OK\n"
     ]
    }
   ],
   "source": [
    "# Your code should pass these tests when running on a fresh kernel\n",
    "_cc=ColouredCircle(radius=1.0, colour='teal')\n",
    "assert(\"get_colour\" in dir(_cc)), \"Method get_colour not defined\"\n",
    "print(\"OK\")"
   ]
  },
  {
   "cell_type": "markdown",
   "metadata": {},
   "source": [
    "--------------------------------------------------------------------------------\n",
    "## Question 4"
   ]
  },
  {
   "cell_type": "markdown",
   "metadata": {},
   "source": [
    "### Question 4a"
   ]
  },
  {
   "cell_type": "code",
   "execution_count": 23,
   "metadata": {},
   "outputs": [],
   "source": [
    "# Edit the code in this cell to answer this question\n",
    "from math import sqrt\n",
    "def safe_sqrt(x):\n",
    "    while True:\n",
    "        try:\n",
    "            return sqrt(x)\n",
    "            \n",
    "        except:\n",
    "            return None "
   ]
  },
  {
   "cell_type": "code",
   "execution_count": 24,
   "metadata": {},
   "outputs": [
    {
     "output_type": "stream",
     "name": "stdout",
     "text": [
      "OK\n"
     ]
    }
   ],
   "source": [
    "# Your code should pass these tests when running on a fresh kernel\n",
    "_=safe_sqrt(-2)\n",
    "print(\"OK\")"
   ]
  },
  {
   "cell_type": "markdown",
   "metadata": {},
   "source": [
    "### Question 4b"
   ]
  },
  {
   "cell_type": "code",
   "execution_count": 25,
   "metadata": {},
   "outputs": [],
   "source": [
    "# Your answer here\n",
    "class NoDataException(Exception):\n",
    "    pass\n",
    "def get_bounds(listofnumbers):\n",
    "    try:\n",
    "        maxnumber = max(listofnumbers)\n",
    "        minimumnumber = min(listofnumbers)\n",
    "        outputtuple = (minimumnumber,maxnumber)\n",
    "        return outputtuple\n",
    "    except:\n",
    "        raise NoDataException"
   ]
  },
  {
   "cell_type": "code",
   "execution_count": 26,
   "metadata": {},
   "outputs": [
    {
     "output_type": "stream",
     "name": "stdout",
     "text": [
      "OK\n"
     ]
    }
   ],
   "source": [
    "# Your code should pass these tests when running on a fresh kernel\n",
    "_ex=NoDataException()\n",
    "(_mn,_mx)=get_bounds([1,2])\n",
    "print(\"OK\")"
   ]
  },
  {
   "cell_type": "markdown",
   "metadata": {},
   "source": [
    "### Question 4c"
   ]
  },
  {
   "cell_type": "code",
   "execution_count": 27,
   "metadata": {},
   "outputs": [],
   "source": [
    "# Traceroute output to help with the testing\n",
    "trouteout=\"\"\"\n",
    "traceroute to edition.cnn.com (151.101.193.67), 30 hops max, 60 byte packets\n",
    " 1  _gateway (192.168.1.254)  3.358 ms  3.444 ms  3.408 ms\n",
    " 2  10.0.131.83 (10.0.131.83)  8.676 ms  9.836 ms  8.631 ms\n",
    " 3  10.0.233.14 (10.0.233.14)  9.808 ms  9.795 ms  9.926 ms\n",
    " 4  10.251.23.194 (10.251.23.194)  9.768 ms  9.755 ms  9.744 ms\n",
    " 5  10.254.12.21 (10.254.12.21)  12.763 ms  12.751 ms  12.738 ms\n",
    " 6  62-101-124-129.fastres.net (62.101.124.129)  13.971 ms  11.613 ms  12.234 ms\n",
    " 7  93-63-100-249.ip27.fastwebnet.it (93.63.100.249)  13.264 ms 93-63-100-253.ip27.fastwebnet.it (93.63.100.253)  13.505 ms  13.222 ms\n",
    "\"\"\""
   ]
  },
  {
   "cell_type": "code",
   "execution_count": 31,
   "metadata": {},
   "outputs": [
    {
     "output_type": "stream",
     "name": "stdout",
     "text": [
      "('10.0.131.83', '10.0.233.14', '10.251.23.194', '10.254.12.21', '151.101.193.67', '192.168.1.254', '62.101.124.129', '93.63.100.249', '93.63.100.253')\n"
     ]
    }
   ],
   "source": [
    "# Your answer here\n",
    "\n",
    "def extract_IPs(IPaddresses):\n",
    "    import re \n",
    "    IPs = re.findall(r'(\\d{1,3}\\.\\d{1,3}\\.\\d{1,3}\\.\\d{1,3})',IPaddresses)\n",
    "    IPs_norepeat = list(set(IPs))\n",
    "    IPs_norepeat.sort()\n",
    "    IPtuple = tuple(IPs_norepeat)\n",
    "    print(IPtuple)\n",
    "extract_IPs(trouteout)\n",
    "    "
   ]
  },
  {
   "cell_type": "code",
   "execution_count": 32,
   "metadata": {},
   "outputs": [
    {
     "output_type": "stream",
     "name": "stdout",
     "text": [
      "('141.223.204.224',)\n"
     ]
    },
    {
     "output_type": "error",
     "ename": "AssertionError",
     "evalue": "Return value is not a list",
     "traceback": [
      "\u001b[1;31m---------------------------------------------------------------------------\u001b[0m",
      "\u001b[1;31mAssertionError\u001b[0m                            Traceback (most recent call last)",
      "\u001b[1;32m<ipython-input-32-5285e946dc32>\u001b[0m in \u001b[0;36m<module>\u001b[1;34m\u001b[0m\n\u001b[0;32m      1\u001b[0m \u001b[1;31m# Your code should pass these tests when running on a fresh kernel\u001b[0m\u001b[1;33m\u001b[0m\u001b[1;33m\u001b[0m\u001b[1;33m\u001b[0m\u001b[0m\n\u001b[0;32m      2\u001b[0m \u001b[0m_\u001b[0m\u001b[1;33m=\u001b[0m\u001b[0mextract_IPs\u001b[0m\u001b[1;33m(\u001b[0m\u001b[1;34m'141.223.204.224'\u001b[0m\u001b[1;33m)\u001b[0m\u001b[1;33m\u001b[0m\u001b[1;33m\u001b[0m\u001b[0m\n\u001b[1;32m----> 3\u001b[1;33m \u001b[1;32massert\u001b[0m \u001b[0mtype\u001b[0m\u001b[1;33m(\u001b[0m\u001b[0m_\u001b[0m\u001b[1;33m)\u001b[0m \u001b[1;33m==\u001b[0m \u001b[0mtype\u001b[0m \u001b[1;33m(\u001b[0m\u001b[1;33m[\u001b[0m\u001b[1;33m]\u001b[0m\u001b[1;33m)\u001b[0m\u001b[1;33m,\u001b[0m \u001b[1;34m\"Return value is not a list\"\u001b[0m\u001b[1;33m\u001b[0m\u001b[1;33m\u001b[0m\u001b[0m\n\u001b[0m\u001b[0;32m      4\u001b[0m \u001b[0mprint\u001b[0m\u001b[1;33m(\u001b[0m\u001b[1;34m\"OK\"\u001b[0m\u001b[1;33m)\u001b[0m\u001b[1;33m\u001b[0m\u001b[1;33m\u001b[0m\u001b[0m\n",
      "\u001b[1;31mAssertionError\u001b[0m: Return value is not a list"
     ]
    }
   ],
   "source": [
    "# Your code should pass these tests when running on a fresh kernel\n",
    "_=extract_IPs('141.223.204.224')\n",
    "assert type(_) == type ([]), \"Return value is not a list\"\n",
    "print(\"OK\")"
   ]
  },
  {
   "cell_type": "code",
   "execution_count": null,
   "metadata": {},
   "outputs": [],
   "source": []
  }
 ],
 "metadata": {
  "kernelspec": {
   "name": "python3",
   "display_name": "Python 3.8.7 64-bit",
   "metadata": {
    "interpreter": {
     "hash": "9f275e2370a3229f2e2fb9b73f1b0a43d5bfd3109520eaedb36292f04c1d575a"
    }
   }
  },
  "language_info": {
   "codemirror_mode": {
    "name": "ipython",
    "version": 3
   },
   "file_extension": ".py",
   "mimetype": "text/x-python",
   "name": "python",
   "nbconvert_exporter": "python",
   "pygments_lexer": "ipython3",
   "version": "3.8.7-final"
  }
 },
 "nbformat": 4,
 "nbformat_minor": 4
}